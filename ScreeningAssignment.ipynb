{
 "cells": [
  {
   "cell_type": "markdown",
   "id": "5eb2713f",
   "metadata": {},
   "source": [
    "![](screening.png)"
   ]
  },
  {
   "cell_type": "markdown",
   "id": "35a0653a",
   "metadata": {},
   "source": [
    "# 1. Create a function in python to read the text file and replace specific content of the file"
   ]
  },
  {
   "cell_type": "code",
   "execution_count": 1,
   "id": "929b581d",
   "metadata": {},
   "outputs": [],
   "source": [
    "# File creation\n",
    "f = open('example.txt', 'w')\n",
    "f.write(\"This is a placement assignment\")\n",
    "# File could contain more words. \n",
    "f.write(\"Blah Blah Blah\")\n",
    "f.close()"
   ]
  },
  {
   "cell_type": "markdown",
   "id": "c68abb28",
   "metadata": {},
   "source": [
    "### Input \n",
    "![](placement.png)"
   ]
  },
  {
   "cell_type": "code",
   "execution_count": 2,
   "id": "a057b71b",
   "metadata": {},
   "outputs": [],
   "source": [
    "class replace : \n",
    "    def __init__(self,file) :\n",
    "        self.file = file\n",
    "\n",
    "    def replaceSingleWord(self,s,t) :\n",
    "        try : \n",
    "            f = open(self.file, 'r')\n",
    "        except :\n",
    "            print(\"Error: Could not find file or read data\")\n",
    "        else : \n",
    "            content = f.read()\n",
    "            f.close()\n",
    "            content = content.replace(s, t)\n",
    "            f = open(self.file, 'w')\n",
    "            f.write(content)\n",
    "            f.close()"
   ]
  },
  {
   "cell_type": "code",
   "execution_count": 3,
   "id": "6972d0e3",
   "metadata": {},
   "outputs": [],
   "source": [
    "obj = replace('example.txt')\n",
    "obj.replaceSingleWord('placement','screening')"
   ]
  },
  {
   "cell_type": "markdown",
   "id": "dfcc63da",
   "metadata": {},
   "source": [
    "### Output\n",
    "![](screening2.png)"
   ]
  },
  {
   "cell_type": "markdown",
   "id": "d61fe2ec",
   "metadata": {},
   "source": [
    "# 2. Demonstrate use of abstract class, multiple inheritance and decorator in python using examples."
   ]
  },
  {
   "cell_type": "markdown",
   "id": "6880c94a",
   "metadata": {},
   "source": [
    "\n",
    "\n",
    "> **Abstract class** is a blueprint for other classes which can inherit the abstract class and write their own implementation.\n",
    "\n",
    "> When one class is derived from more than one class then it is called **Multiple Inheritance**.\n",
    "\n",
    "> **Decorators** allow the programmer to modify the behaviour of function or class.\n"
   ]
  },
  {
   "cell_type": "markdown",
   "id": "b5693681",
   "metadata": {},
   "source": [
    "### Implementation : \n",
    "- Here, i've implemented Abstract class, multiple inheritance and decorators all in one place. \n",
    "- *Abstract class* **Hero** uses *decorator* '@abstractmethod' and is a base class which is inherited by classes **Superman** and **Batman** and both these classes implement their own functioning of the method **superPower()**.\n",
    "- Another class **SupermanBatmanTeam** inherits both **Superman** and **Batman** class and thus shows *multiple inheritance*. Also, this class implements it's own functioning of **superPower** function by use of super() keyword. \n",
    "\n",
    "#### Note : I've avoided use of logging and exception handling so as to make the code simple and easy to understand. "
   ]
  },
  {
   "cell_type": "code",
   "execution_count": 4,
   "id": "1ef86d5e",
   "metadata": {},
   "outputs": [],
   "source": [
    "from abc import ABC, abstractmethod\n",
    "\n",
    "class Hero(ABC) : # Hero abstact base class\n",
    "    \n",
    "    def __init__(self,hero_name,real_name) :\n",
    "        self.hero_name = hero_name\n",
    "        self.real_name = real_name\n",
    "        \n",
    "    @abstractmethod # use of decorator @abstractmethod\n",
    "    def superPower(self) :\n",
    "        pass\n",
    "\n",
    "class Superman(Hero) : # Superman inherits Hero abstract base class\n",
    "    def __init__(self,hero_name,real_name) :\n",
    "        super().__init__(hero_name, real_name)\n",
    "    \n",
    "    def superPower(self) :\n",
    "        print(\"Im Superman and I possess the power of flight, superhuman strength, x-ray vision, heat vision, and many more.\")\n",
    "        \n",
    "class Batman(Hero) : # Batman inherits Hero abstract base class\n",
    "    def __init__(self,hero_name,real_name) :\n",
    "        super().__init__(hero_name, real_name)\n",
    "    \n",
    "    def superPower(self) :\n",
    "        print(\"I'm Batman and I don't possess any superpowers, instead i rely on my intellect, fighting skills, and wealth.\")\n",
    "        \n",
    "class SupermanBatmanTeam(Superman,Batman) : # This class inherits both Superman and Batman Class\n",
    "    # This is an example of Multiple Inheritance\n",
    "    def __init__(self) :\n",
    "        pass\n",
    "    def superPower(self) :\n",
    "        super().superPower() \n",
    "        print(\"And\")\n",
    "        super(Superman,self).superPower()\n",
    "        \n",
    "    "
   ]
  },
  {
   "cell_type": "code",
   "execution_count": 5,
   "id": "9e3d36ea",
   "metadata": {},
   "outputs": [
    {
     "ename": "TypeError",
     "evalue": "Can't instantiate abstract class Hero with abstract method superPower",
     "output_type": "error",
     "traceback": [
      "\u001b[1;31m---------------------------------------------------------------------------\u001b[0m",
      "\u001b[1;31mTypeError\u001b[0m                                 Traceback (most recent call last)",
      "\u001b[1;32m~\\AppData\\Local\\Temp/ipykernel_4236/731594161.py\u001b[0m in \u001b[0;36m<module>\u001b[1;34m\u001b[0m\n\u001b[0;32m      1\u001b[0m \u001b[1;31m# This will give error because an abstract class cannot be instantiated\u001b[0m\u001b[1;33m\u001b[0m\u001b[1;33m\u001b[0m\u001b[0m\n\u001b[0;32m      2\u001b[0m \u001b[1;33m\u001b[0m\u001b[0m\n\u001b[1;32m----> 3\u001b[1;33m \u001b[0mobj\u001b[0m \u001b[1;33m=\u001b[0m \u001b[0mHero\u001b[0m\u001b[1;33m(\u001b[0m\u001b[1;34m\"Captain America\"\u001b[0m\u001b[1;33m,\u001b[0m\u001b[1;34m\"Steve\"\u001b[0m\u001b[1;33m)\u001b[0m\u001b[1;33m\u001b[0m\u001b[1;33m\u001b[0m\u001b[0m\n\u001b[0m\u001b[0;32m      4\u001b[0m \u001b[0mobj\u001b[0m\u001b[1;33m.\u001b[0m\u001b[0msuperPower\u001b[0m\u001b[1;33m(\u001b[0m\u001b[1;33m)\u001b[0m\u001b[1;33m\u001b[0m\u001b[1;33m\u001b[0m\u001b[0m\n",
      "\u001b[1;31mTypeError\u001b[0m: Can't instantiate abstract class Hero with abstract method superPower"
     ]
    }
   ],
   "source": [
    "# This will give error because an abstract class cannot be instantiated\n",
    "\n",
    "obj = Hero(\"Captain America\",\"Steve\")\n",
    "obj.superPower()"
   ]
  },
  {
   "cell_type": "code",
   "execution_count": 6,
   "id": "6d9afe91",
   "metadata": {},
   "outputs": [
    {
     "name": "stdout",
     "output_type": "stream",
     "text": [
      "Im Superman and I possess the power of flight, superhuman strength, x-ray vision, heat vision, and many more.\n"
     ]
    }
   ],
   "source": [
    "# class Superman object\n",
    "obj1 = Superman(\"Superman\",\"Clark\")\n",
    "obj1.superPower()"
   ]
  },
  {
   "cell_type": "code",
   "execution_count": 7,
   "id": "fe036659",
   "metadata": {},
   "outputs": [],
   "source": [
    "# class Batman Object"
   ]
  },
  {
   "cell_type": "code",
   "execution_count": 8,
   "id": "952e580f",
   "metadata": {},
   "outputs": [
    {
     "name": "stdout",
     "output_type": "stream",
     "text": [
      "I'm Batman and I don't possess any superpowers, instead i rely on my intellect, fighting skills, and wealth.\n"
     ]
    }
   ],
   "source": [
    "obj2 = Batman(\"Superman\",\"Clark\")\n",
    "obj2.superPower()"
   ]
  },
  {
   "cell_type": "code",
   "execution_count": 9,
   "id": "af947c2f",
   "metadata": {},
   "outputs": [
    {
     "name": "stdout",
     "output_type": "stream",
     "text": [
      "Im Superman and I possess the power of flight, superhuman strength, x-ray vision, heat vision, and many more.\n",
      "And\n",
      "I'm Batman and I don't possess any superpowers, instead i rely on my intellect, fighting skills, and wealth.\n"
     ]
    }
   ],
   "source": [
    "# Mutliple Inheritance Class 'SupermanBatmanTeam'\n",
    "obj3 = SupermanBatmanTeam() \n",
    "obj3.superPower()"
   ]
  },
  {
   "cell_type": "code",
   "execution_count": null,
   "id": "23dbef55",
   "metadata": {},
   "outputs": [],
   "source": []
  },
  {
   "cell_type": "code",
   "execution_count": null,
   "id": "33207ec8",
   "metadata": {},
   "outputs": [],
   "source": []
  }
 ],
 "metadata": {
  "kernelspec": {
   "display_name": "Python 3 (ipykernel)",
   "language": "python",
   "name": "python3"
  },
  "language_info": {
   "codemirror_mode": {
    "name": "ipython",
    "version": 3
   },
   "file_extension": ".py",
   "mimetype": "text/x-python",
   "name": "python",
   "nbconvert_exporter": "python",
   "pygments_lexer": "ipython3",
   "version": "3.9.7"
  }
 },
 "nbformat": 4,
 "nbformat_minor": 5
}
